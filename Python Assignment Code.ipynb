{
 "cells": [
  {
   "cell_type": "code",
   "execution_count": 1,
   "id": "380b0a2c",
   "metadata": {},
   "outputs": [],
   "source": [
    "#Import the packages"
   ]
  },
  {
   "cell_type": "code",
   "execution_count": 2,
   "id": "fa438a22",
   "metadata": {},
   "outputs": [],
   "source": [
    "import pandas as pd\n",
    "from sqlalchemy import create_engine\n",
    "from math import sqrt\n",
    "import matplotlib.pyplot as plt\n",
    "import numpy as np"
   ]
  },
  {
   "cell_type": "code",
   "execution_count": 3,
   "id": "48648922",
   "metadata": {},
   "outputs": [],
   "source": [
    "#Utility Classes"
   ]
  },
  {
   "cell_type": "code",
   "execution_count": 4,
   "id": "35edf870",
   "metadata": {},
   "outputs": [],
   "source": [
    "class TrainingData:\n",
    "    def __init__(self, csv_files):\n",
    "        self.csv_files = csv_files\n",
    "        self.db_engine = create_engine('sqlite:///training_data.db')\n",
    "\n",
    "    def load_data(self):\n",
    "        for i, csv_file in enumerate(self.csv_files):\n",
    "            df = pd.read_csv(csv_file)\n",
    "            df.to_sql(f'training_{i+1}', self.db_engine, if_exists='replace', index=False)\n",
    "\n",
    "    def calculate_deviation(self, ideal_func):\n",
    "        deviation = 0.0\n",
    "        for i, csv_file in enumerate(self.csv_files):\n",
    "            df = pd.read_sql_table(f'training_{i+1}', self.db_engine)\n",
    "            y_deviation = df['y1'].subtract(ideal_func(df['x']), fill_value=0)\n",
    "            deviation += (y_deviation ** 2).sum()\n",
    "        return deviation\n",
    "\n",
    "    def select_ideal_functions(self, num_functions):\n",
    "        \"\"\"\n",
    "        Selects the best-fit ideal functions. It iterates a specified number of times, num_functions \n",
    "        and in each iteration, it searches for the ideal function with the minimum sum of squared deviations \n",
    "        calculated in the calculate_deviation method. The selected function is added to the list of chosen \n",
    "        ideal functions.\n",
    "\n",
    "        \"\"\"\n",
    "        ideal_functions = []\n",
    "        for i in range(num_functions):\n",
    "            min_deviation = float('inf')\n",
    "            selected_func = None\n",
    "            for j in range(50):\n",
    "                deviation = self.calculate_deviation(self.get_ideal_function(j))\n",
    "                if deviation < min_deviation:\n",
    "                    min_deviation = deviation\n",
    "                    selected_func = self.get_ideal_function(j)\n",
    "            ideal_functions.append(selected_func)\n",
    "        return ideal_functions\n",
    "\n",
    "    def get_ideal_function(self, index):\n",
    "        \"\"\"\n",
    "        Retrieves the actual ideal function based on its index from the \"ideal_functions\" \n",
    "        table in the SQLite database.\n",
    "        \"\"\"\n",
    "        ideal_functions_df = pd.read_sql_table('ideal_functions', self.db_engine)\n",
    "        func = lambda x: ideal_functions_df.iloc[:, index].loc[ideal_functions_df['x'] == x].values[0]\n",
    "        return func"
   ]
  },
  {
   "cell_type": "code",
   "execution_count": 5,
   "id": "eebac77c",
   "metadata": {},
   "outputs": [],
   "source": [
    "class IdealFunctions:\n",
    "    def __init__(self, csv_file):\n",
    "        self.csv_file = csv_file\n",
    "        self.db_engine = create_engine('sqlite:///training_data.db')\n",
    "\n",
    "    def load_data(self):\n",
    "        df = pd.read_csv(self.csv_file)\n",
    "        df.to_sql('ideal_functions', self.db_engine, if_exists='replace', index=False)\n",
    "\n",
    "\n",
    "class TestData:\n",
    "    def __init__(self, csv_file):\n",
    "        self.csv_file = csv_file\n",
    "        self.db_engine = create_engine('sqlite:///training_data.db')\n",
    "\n",
    "    def load_data(self):\n",
    "        df = pd.read_csv(self.csv_file)\n",
    "        df.to_sql('test_data', self.db_engine, if_exists='replace', index=False)\n",
    "        self.df_test = df\n",
    "\n",
    "    def map_to_ideal_functions(self, ideal_functions):\n",
    "        results = []\n",
    "        for _, row in self.df_test.iterrows():\n",
    "            x, y = row['x'], row['y']\n",
    "            max_deviation = sqrt(2) * max(np.abs(ideal_func(x) - y).max() for ideal_func in ideal_functions)\n",
    "            matched_functions = [i + 1 for i, ideal_func in enumerate(ideal_functions) if\n",
    "                                  np.abs(ideal_func(x) - y).max() <= max_deviation]\n",
    "            results.append((x, y, matched_functions, max_deviation))\n",
    "        df_results = pd.DataFrame(results, columns=['x', 'y', 'Ideal Function', 'Deviation'])\n",
    "        df_results['x'] = df_results['x'].astype(float)\n",
    "        df_results['y'] = df_results['y'].astype(float)\n",
    "        df_results['Ideal Function'] = df_results['Ideal Function'].astype(str)\n",
    "        df_results['Deviation'] = df_results['Deviation'].astype(float)\n",
    "        df_results.to_sql('mapped_data', self.db_engine, if_exists='replace', index=False)\n",
    "    def visualize_data(self):\n",
    "        df_results = pd.read_sql_table('mapped_data', self.db_engine)\n",
    "\n",
    "        # Plotting the data points and their deviations\n",
    "        plt.scatter(df_results['x'], df_results['y'], label='Data Points')\n",
    "        plt.errorbar(df_results['x'], df_results['y'], yerr=df_results['Deviation'], linestyle='', label='Deviation')\n",
    "        plt.xlabel('x')\n",
    "        plt.ylabel('y')\n",
    "        plt.title('Mapped Data with Deviations')\n",
    "        plt.legend()\n",
    "        plt.show()\n",
    "\n",
    "        "
   ]
  },
  {
   "cell_type": "code",
   "execution_count": 6,
   "id": "5bd0fded",
   "metadata": {},
   "outputs": [],
   "source": [
    "#Loading the files    "
   ]
  },
  {
   "cell_type": "code",
   "execution_count": 7,
   "id": "3556d8ee",
   "metadata": {},
   "outputs": [],
   "source": [
    "training_data = TrainingData(['train.csv'])\n",
    "training_data.load_data()\n",
    "ideal_functions = IdealFunctions('Ideal.csv')\n",
    "ideal_functions.load_data()\n",
    "test_data = TestData('Test.csv')\n",
    "test_data.load_data()"
   ]
  },
  {
   "cell_type": "code",
   "execution_count": 8,
   "id": "b099b618",
   "metadata": {},
   "outputs": [],
   "source": [
    "#Fitting the training data"
   ]
  },
  {
   "cell_type": "code",
   "execution_count": 9,
   "id": "1bede294",
   "metadata": {},
   "outputs": [],
   "source": [
    "chosen_ideal_functions = training_data.select_ideal_functions(4)"
   ]
  },
  {
   "cell_type": "code",
   "execution_count": 10,
   "id": "da4d6bdf",
   "metadata": {},
   "outputs": [],
   "source": [
    "#Mapping Ideal Functions"
   ]
  },
  {
   "cell_type": "code",
   "execution_count": 11,
   "id": "0ca8a222",
   "metadata": {},
   "outputs": [],
   "source": [
    "test_data.map_to_ideal_functions(chosen_ideal_functions)"
   ]
  },
  {
   "cell_type": "code",
   "execution_count": 12,
   "id": "cce06451",
   "metadata": {},
   "outputs": [],
   "source": [
    "#Visualization"
   ]
  },
  {
   "cell_type": "code",
   "execution_count": 13,
   "id": "cf8a69a1",
   "metadata": {},
   "outputs": [
    {
     "data": {
      "image/png": "[encoded data removed]",
      "text/plain": [
       "<Figure size 640x480 with 1 Axes>"
      ]
     },
     "metadata": {},
     "output_type": "display_data"
    }
   ],
   "source": [
    "test_data.visualize_data()"
   ]
  },
  {
   "cell_type": "code",
   "execution_count": null,
   "id": "c088e354",
   "metadata": {},
   "outputs": [],
   "source": []
  }
 ],
 "metadata": {
  "kernelspec": {
   "display_name": "Python 3 (ipykernel)",
   "language": "python",
   "name": "python3"
  },
  "language_info": {
   "codemirror_mode": {
    "name": "ipython",
    "version": 3
   },
   "file_extension": ".py",
   "mimetype": "text/x-python",
   "name": "python",
   "nbconvert_exporter": "python",
   "pygments_lexer": "ipython3",
   "version": "3.10.9"
  }
 },
 "nbformat": 4,
 "nbformat_minor": 5
}
